{
  "cells": [
    {
      "cell_type": "markdown",
      "metadata": {
        "id": "view-in-github",
        "colab_type": "text"
      },
      "source": [
        "<a href=\"https://colab.research.google.com/github/jboverio/doing_data_science/blob/master/html.ipynb\" target=\"_parent\"><img src=\"https://colab.research.google.com/assets/colab-badge.svg\" alt=\"Open In Colab\"/></a>"
      ]
    },
    {
      "cell_type": "markdown",
      "source": [
        "Converting a notebook to HTML\n",
        "\n"
      ],
      "metadata": {
        "id": "TmQc-drln6K2"
      },
      "id": "TmQc-drln6K2"
    },
    {
      "cell_type": "code",
      "execution_count": 6,
      "id": "519328cd-1385-4de3-a3fe-c51e849f6eda",
      "metadata": {
        "tags": [],
        "colab": {
          "base_uri": "https://localhost:8080/",
          "height": 542
        },
        "id": "519328cd-1385-4de3-a3fe-c51e849f6eda",
        "outputId": "81f30fe8-328b-4796-9dca-e6813955807a"
      },
      "outputs": [
        {
          "output_type": "display_data",
          "data": {
            "text/html": [
              "<html>\n",
              "<head><meta charset=\"utf-8\" /></head>\n",
              "<body>\n",
              "    <div>            <script src=\"https://cdnjs.cloudflare.com/ajax/libs/mathjax/2.7.5/MathJax.js?config=TeX-AMS-MML_SVG\"></script><script type=\"text/javascript\">if (window.MathJax && window.MathJax.Hub && window.MathJax.Hub.Config) {window.MathJax.Hub.Config({SVG: {font: \"STIX-Web\"}});}</script>                <script type=\"text/javascript\">window.PlotlyConfig = {MathJaxConfig: 'local'};</script>\n",
              "        <script src=\"https://cdn.plot.ly/plotly-2.18.2.min.js\"></script>                <div id=\"62b3ed0e-f7db-4059-a7f1-5bd1cf505402\" class=\"plotly-graph-div\" style=\"height:525px; width:100%;\"></div>            <script type=\"text/javascript\">                                    window.PLOTLYENV=window.PLOTLYENV || {};                                    if (document.getElementById(\"62b3ed0e-f7db-4059-a7f1-5bd1cf505402\")) {                    Plotly.newPlot(                        \"62b3ed0e-f7db-4059-a7f1-5bd1cf505402\",                        [{\"mode\":\"markers\",\"x\":[0.1651588402143886,-1.7873449203858982,-0.5496078032278897,2.334547653098423,0.5943552199333202,0.48610896495413336,0.7958962159711732,1.160852448316929,0.2155859932080097,1.219365821904416,2.0564047614335785,0.14827222775779694,1.1749615931843993,-0.5778326088399823,-0.06094640647009595,1.1533874542713995,0.3656128788804406,1.1869201778948013,0.3802802609650161,-0.2303171988578915,-0.10388127239622084,-1.4622742033124854,-2.5432996175821216,-0.8350225592631393,-1.597621077740332,-0.6154806281102279,0.6333041143257314,-1.399943678411575,0.1642960154482272,-1.849302775196819,-1.0279625127052432,-0.5892569192222225,0.9865852526975971,-0.08717864874924726,0.627131738326751,0.6999522725386349,-0.4680965295843045,0.4785203911506477,-0.2783295882622914,-0.37538491952570724,-1.3328145409762833,1.1595766094155386,0.3026091134254191,-0.5329576357491662,-0.23156022485716193,-1.1218387326437669,0.5729702502709981,1.1680041856627135,0.5616528681058892,-0.2123616846603156,-0.4310895357962874,0.89514247755707,1.444966258061503,-1.1249915256581968,0.41437516156316817,-0.4312347218383667,-1.784617648648814,0.2721400729861692,-1.2170471956055469,0.5014950752841013,0.369959440717634,-1.6022370313267966,-1.8383288917483613,-1.584652188166993,-0.4733036331174053,-0.9259606519160299,-0.18000027640715846,-0.0003858144534842774,-1.0322207860788508,0.19225205669539588,1.510200173457675,0.7230168829517661,0.16372829791976978,-0.6016507370979431,-1.0309532041808132,-0.8382897506604274,1.1509446596584272,-0.4028423286526197,-1.65491496682195,1.0991271165742447,0.14111167361627264,0.05703953063021885,1.9406788968684958,-0.8780075176567949,1.9387352774264932,1.162920239143251,1.5458382200838907,-0.11775773727317775,-0.9610514299211335,-0.9954620940484861,-0.35121375733730437,-0.5914328950117191,-1.0590663586603255,1.450956718672672,-2.602295701485647,-0.0885779583305065,-0.9898045798464351,0.19876026571434827,-1.898910177969212,-0.28048767968949745],\"y\":[0.4998107783970397,0.5419412399525046,1.0551210718700994,-0.7609051955188335,-0.5089025292530134,-0.23389954895240064,0.7272173381885739,-0.4286850032754467,0.6374054490876725,1.4728871474811869,-0.0002560758667070907,1.6325244178600724,-0.7088800056628695,0.3406420081407724,-0.4750454618009431,0.29653214732972566,1.2115766468112668,-1.1673072073045228,0.7721342096401664,0.9091663278086048,1.1168654944717982,0.5474085778906317,0.4201089257371349,2.152413748851275,-1.4814923849531512,0.6981902433037884,1.2578846455655999,0.9885648326588102,2.3051850484040366,-0.4545538611133507,-1.3159900830809226,-0.8588056868500666,0.573416777917242,-0.1689414006136672,1.656524738028685,0.5201434580609009,0.1869700339325501,-1.3978167873319693,-0.12891688816139052,-2.059070289418811,-0.36838574393075496,-1.8020229515697888,-0.15319539920969535,0.2666888247374447,0.44068837747592426,0.9983425720912763,1.1294521145409473,0.2194117418575797,0.5133866110765141,0.7295809567186345,3.4180488995939653,0.27865242608563034,-0.1973190530835838,1.934027072962238,0.9517345196155207,0.9862042750895944,0.5380765078555426,-0.04015439863591152,-0.32132545274242685,-1.614830285889349,0.22959732150448492,-0.7878768442516261,-0.2785386824243694,-0.7022860219543754,-0.26020633390072434,0.6963565438042815,1.3332761164467815,0.3620590513857371,0.6460965238568943,0.6002894291603124,-0.46873066266658364,-0.1634766719317407,-2.734726593532347,0.5640150668713769,0.5223839231595849,1.6401954368181546,0.7479655109364463,0.144142242067876,-0.25986543104438087,0.736847596783843,1.0056762117450755,-1.5995006491015415,0.9190555346299257,-0.22749203341300905,-1.2500120210677457,0.28419377427196124,1.6442087289475802,1.2910995072574205,1.4058380413323481,2.09343380546586,1.580241102212862,-0.3685334014507479,1.883429970560962,-1.9182859750670591,-1.4758919476284738,-1.4266736704829275,-2.7596722044455997,-0.5444857625202506,1.3666897746319366,0.6665557635882028],\"type\":\"scatter\"}],                        {\"title\":{\"text\":\"Random Scatter Plot\"},\"xaxis\":{\"title\":{\"text\":\"X\"}},\"yaxis\":{\"title\":{\"text\":\"Y\"}},\"template\":{\"data\":{\"histogram2dcontour\":[{\"type\":\"histogram2dcontour\",\"colorbar\":{\"outlinewidth\":0,\"ticks\":\"\"},\"colorscale\":[[0.0,\"#0d0887\"],[0.1111111111111111,\"#46039f\"],[0.2222222222222222,\"#7201a8\"],[0.3333333333333333,\"#9c179e\"],[0.4444444444444444,\"#bd3786\"],[0.5555555555555556,\"#d8576b\"],[0.6666666666666666,\"#ed7953\"],[0.7777777777777778,\"#fb9f3a\"],[0.8888888888888888,\"#fdca26\"],[1.0,\"#f0f921\"]]}],\"choropleth\":[{\"type\":\"choropleth\",\"colorbar\":{\"outlinewidth\":0,\"ticks\":\"\"}}],\"histogram2d\":[{\"type\":\"histogram2d\",\"colorbar\":{\"outlinewidth\":0,\"ticks\":\"\"},\"colorscale\":[[0.0,\"#0d0887\"],[0.1111111111111111,\"#46039f\"],[0.2222222222222222,\"#7201a8\"],[0.3333333333333333,\"#9c179e\"],[0.4444444444444444,\"#bd3786\"],[0.5555555555555556,\"#d8576b\"],[0.6666666666666666,\"#ed7953\"],[0.7777777777777778,\"#fb9f3a\"],[0.8888888888888888,\"#fdca26\"],[1.0,\"#f0f921\"]]}],\"heatmap\":[{\"type\":\"heatmap\",\"colorbar\":{\"outlinewidth\":0,\"ticks\":\"\"},\"colorscale\":[[0.0,\"#0d0887\"],[0.1111111111111111,\"#46039f\"],[0.2222222222222222,\"#7201a8\"],[0.3333333333333333,\"#9c179e\"],[0.4444444444444444,\"#bd3786\"],[0.5555555555555556,\"#d8576b\"],[0.6666666666666666,\"#ed7953\"],[0.7777777777777778,\"#fb9f3a\"],[0.8888888888888888,\"#fdca26\"],[1.0,\"#f0f921\"]]}],\"heatmapgl\":[{\"type\":\"heatmapgl\",\"colorbar\":{\"outlinewidth\":0,\"ticks\":\"\"},\"colorscale\":[[0.0,\"#0d0887\"],[0.1111111111111111,\"#46039f\"],[0.2222222222222222,\"#7201a8\"],[0.3333333333333333,\"#9c179e\"],[0.4444444444444444,\"#bd3786\"],[0.5555555555555556,\"#d8576b\"],[0.6666666666666666,\"#ed7953\"],[0.7777777777777778,\"#fb9f3a\"],[0.8888888888888888,\"#fdca26\"],[1.0,\"#f0f921\"]]}],\"contourcarpet\":[{\"type\":\"contourcarpet\",\"colorbar\":{\"outlinewidth\":0,\"ticks\":\"\"}}],\"contour\":[{\"type\":\"contour\",\"colorbar\":{\"outlinewidth\":0,\"ticks\":\"\"},\"colorscale\":[[0.0,\"#0d0887\"],[0.1111111111111111,\"#46039f\"],[0.2222222222222222,\"#7201a8\"],[0.3333333333333333,\"#9c179e\"],[0.4444444444444444,\"#bd3786\"],[0.5555555555555556,\"#d8576b\"],[0.6666666666666666,\"#ed7953\"],[0.7777777777777778,\"#fb9f3a\"],[0.8888888888888888,\"#fdca26\"],[1.0,\"#f0f921\"]]}],\"surface\":[{\"type\":\"surface\",\"colorbar\":{\"outlinewidth\":0,\"ticks\":\"\"},\"colorscale\":[[0.0,\"#0d0887\"],[0.1111111111111111,\"#46039f\"],[0.2222222222222222,\"#7201a8\"],[0.3333333333333333,\"#9c179e\"],[0.4444444444444444,\"#bd3786\"],[0.5555555555555556,\"#d8576b\"],[0.6666666666666666,\"#ed7953\"],[0.7777777777777778,\"#fb9f3a\"],[0.8888888888888888,\"#fdca26\"],[1.0,\"#f0f921\"]]}],\"mesh3d\":[{\"type\":\"mesh3d\",\"colorbar\":{\"outlinewidth\":0,\"ticks\":\"\"}}],\"scatter\":[{\"fillpattern\":{\"fillmode\":\"overlay\",\"size\":10,\"solidity\":0.2},\"type\":\"scatter\"}],\"parcoords\":[{\"type\":\"parcoords\",\"line\":{\"colorbar\":{\"outlinewidth\":0,\"ticks\":\"\"}}}],\"scatterpolargl\":[{\"type\":\"scatterpolargl\",\"marker\":{\"colorbar\":{\"outlinewidth\":0,\"ticks\":\"\"}}}],\"bar\":[{\"error_x\":{\"color\":\"#2a3f5f\"},\"error_y\":{\"color\":\"#2a3f5f\"},\"marker\":{\"line\":{\"color\":\"#E5ECF6\",\"width\":0.5},\"pattern\":{\"fillmode\":\"overlay\",\"size\":10,\"solidity\":0.2}},\"type\":\"bar\"}],\"scattergeo\":[{\"type\":\"scattergeo\",\"marker\":{\"colorbar\":{\"outlinewidth\":0,\"ticks\":\"\"}}}],\"scatterpolar\":[{\"type\":\"scatterpolar\",\"marker\":{\"colorbar\":{\"outlinewidth\":0,\"ticks\":\"\"}}}],\"histogram\":[{\"marker\":{\"pattern\":{\"fillmode\":\"overlay\",\"size\":10,\"solidity\":0.2}},\"type\":\"histogram\"}],\"scattergl\":[{\"type\":\"scattergl\",\"marker\":{\"colorbar\":{\"outlinewidth\":0,\"ticks\":\"\"}}}],\"scatter3d\":[{\"type\":\"scatter3d\",\"line\":{\"colorbar\":{\"outlinewidth\":0,\"ticks\":\"\"}},\"marker\":{\"colorbar\":{\"outlinewidth\":0,\"ticks\":\"\"}}}],\"scattermapbox\":[{\"type\":\"scattermapbox\",\"marker\":{\"colorbar\":{\"outlinewidth\":0,\"ticks\":\"\"}}}],\"scatterternary\":[{\"type\":\"scatterternary\",\"marker\":{\"colorbar\":{\"outlinewidth\":0,\"ticks\":\"\"}}}],\"scattercarpet\":[{\"type\":\"scattercarpet\",\"marker\":{\"colorbar\":{\"outlinewidth\":0,\"ticks\":\"\"}}}],\"carpet\":[{\"aaxis\":{\"endlinecolor\":\"#2a3f5f\",\"gridcolor\":\"white\",\"linecolor\":\"white\",\"minorgridcolor\":\"white\",\"startlinecolor\":\"#2a3f5f\"},\"baxis\":{\"endlinecolor\":\"#2a3f5f\",\"gridcolor\":\"white\",\"linecolor\":\"white\",\"minorgridcolor\":\"white\",\"startlinecolor\":\"#2a3f5f\"},\"type\":\"carpet\"}],\"table\":[{\"cells\":{\"fill\":{\"color\":\"#EBF0F8\"},\"line\":{\"color\":\"white\"}},\"header\":{\"fill\":{\"color\":\"#C8D4E3\"},\"line\":{\"color\":\"white\"}},\"type\":\"table\"}],\"barpolar\":[{\"marker\":{\"line\":{\"color\":\"#E5ECF6\",\"width\":0.5},\"pattern\":{\"fillmode\":\"overlay\",\"size\":10,\"solidity\":0.2}},\"type\":\"barpolar\"}],\"pie\":[{\"automargin\":true,\"type\":\"pie\"}]},\"layout\":{\"autotypenumbers\":\"strict\",\"colorway\":[\"#636efa\",\"#EF553B\",\"#00cc96\",\"#ab63fa\",\"#FFA15A\",\"#19d3f3\",\"#FF6692\",\"#B6E880\",\"#FF97FF\",\"#FECB52\"],\"font\":{\"color\":\"#2a3f5f\"},\"hovermode\":\"closest\",\"hoverlabel\":{\"align\":\"left\"},\"paper_bgcolor\":\"white\",\"plot_bgcolor\":\"#E5ECF6\",\"polar\":{\"bgcolor\":\"#E5ECF6\",\"angularaxis\":{\"gridcolor\":\"white\",\"linecolor\":\"white\",\"ticks\":\"\"},\"radialaxis\":{\"gridcolor\":\"white\",\"linecolor\":\"white\",\"ticks\":\"\"}},\"ternary\":{\"bgcolor\":\"#E5ECF6\",\"aaxis\":{\"gridcolor\":\"white\",\"linecolor\":\"white\",\"ticks\":\"\"},\"baxis\":{\"gridcolor\":\"white\",\"linecolor\":\"white\",\"ticks\":\"\"},\"caxis\":{\"gridcolor\":\"white\",\"linecolor\":\"white\",\"ticks\":\"\"}},\"coloraxis\":{\"colorbar\":{\"outlinewidth\":0,\"ticks\":\"\"}},\"colorscale\":{\"sequential\":[[0.0,\"#0d0887\"],[0.1111111111111111,\"#46039f\"],[0.2222222222222222,\"#7201a8\"],[0.3333333333333333,\"#9c179e\"],[0.4444444444444444,\"#bd3786\"],[0.5555555555555556,\"#d8576b\"],[0.6666666666666666,\"#ed7953\"],[0.7777777777777778,\"#fb9f3a\"],[0.8888888888888888,\"#fdca26\"],[1.0,\"#f0f921\"]],\"sequentialminus\":[[0.0,\"#0d0887\"],[0.1111111111111111,\"#46039f\"],[0.2222222222222222,\"#7201a8\"],[0.3333333333333333,\"#9c179e\"],[0.4444444444444444,\"#bd3786\"],[0.5555555555555556,\"#d8576b\"],[0.6666666666666666,\"#ed7953\"],[0.7777777777777778,\"#fb9f3a\"],[0.8888888888888888,\"#fdca26\"],[1.0,\"#f0f921\"]],\"diverging\":[[0,\"#8e0152\"],[0.1,\"#c51b7d\"],[0.2,\"#de77ae\"],[0.3,\"#f1b6da\"],[0.4,\"#fde0ef\"],[0.5,\"#f7f7f7\"],[0.6,\"#e6f5d0\"],[0.7,\"#b8e186\"],[0.8,\"#7fbc41\"],[0.9,\"#4d9221\"],[1,\"#276419\"]]},\"xaxis\":{\"gridcolor\":\"white\",\"linecolor\":\"white\",\"ticks\":\"\",\"title\":{\"standoff\":15},\"zerolinecolor\":\"white\",\"automargin\":true,\"zerolinewidth\":2},\"yaxis\":{\"gridcolor\":\"white\",\"linecolor\":\"white\",\"ticks\":\"\",\"title\":{\"standoff\":15},\"zerolinecolor\":\"white\",\"automargin\":true,\"zerolinewidth\":2},\"scene\":{\"xaxis\":{\"backgroundcolor\":\"#E5ECF6\",\"gridcolor\":\"white\",\"linecolor\":\"white\",\"showbackground\":true,\"ticks\":\"\",\"zerolinecolor\":\"white\",\"gridwidth\":2},\"yaxis\":{\"backgroundcolor\":\"#E5ECF6\",\"gridcolor\":\"white\",\"linecolor\":\"white\",\"showbackground\":true,\"ticks\":\"\",\"zerolinecolor\":\"white\",\"gridwidth\":2},\"zaxis\":{\"backgroundcolor\":\"#E5ECF6\",\"gridcolor\":\"white\",\"linecolor\":\"white\",\"showbackground\":true,\"ticks\":\"\",\"zerolinecolor\":\"white\",\"gridwidth\":2}},\"shapedefaults\":{\"line\":{\"color\":\"#2a3f5f\"}},\"annotationdefaults\":{\"arrowcolor\":\"#2a3f5f\",\"arrowhead\":0,\"arrowwidth\":1},\"geo\":{\"bgcolor\":\"white\",\"landcolor\":\"#E5ECF6\",\"subunitcolor\":\"white\",\"showland\":true,\"showlakes\":true,\"lakecolor\":\"white\"},\"title\":{\"x\":0.05},\"mapbox\":{\"style\":\"light\"}}}},                        {\"responsive\": true}                    ).then(function(){\n",
              "                            \n",
              "var gd = document.getElementById('62b3ed0e-f7db-4059-a7f1-5bd1cf505402');\n",
              "var x = new MutationObserver(function (mutations, observer) {{\n",
              "        var display = window.getComputedStyle(gd).display;\n",
              "        if (!display || display === 'none') {{\n",
              "            console.log([gd, 'removed!']);\n",
              "            Plotly.purge(gd);\n",
              "            observer.disconnect();\n",
              "        }}\n",
              "}});\n",
              "\n",
              "// Listen for the removal of the full notebook cells\n",
              "var notebookContainer = gd.closest('#notebook-container');\n",
              "if (notebookContainer) {{\n",
              "    x.observe(notebookContainer, {childList: true});\n",
              "}}\n",
              "\n",
              "// Listen for the clearing of the current output cell\n",
              "var outputEl = gd.closest('.output');\n",
              "if (outputEl) {{\n",
              "    x.observe(outputEl, {childList: true});\n",
              "}}\n",
              "\n",
              "                        })                };                            </script>        </div>\n",
              "</body>\n",
              "</html>"
            ]
          },
          "metadata": {}
        }
      ],
      "source": [
        "import plotly.graph_objs as go\n",
        "import numpy as np\n",
        "\n",
        "# Generate some random data\n",
        "x = np.random.randn(100)\n",
        "y = np.random.randn(100)\n",
        "\n",
        "# Create a scatter plot\n",
        "trace = go.Scatter(x=x, y=y, mode='markers')\n",
        "\n",
        "# Create a layout with a title and x/y axis labels\n",
        "layout = go.Layout(title='Random Scatter Plot', xaxis={'title': 'X'}, yaxis={'title': 'Y'})\n",
        "\n",
        "# Create a Figure object\n",
        "fig = go.Figure(data=[trace], layout=layout)\n",
        "\n",
        "# Display the figure in Jupyter Notebook\n",
        "fig.show()\n",
        "# Create a slider with values ranging from 0 to 10\n",
        "slider = dict(\n",
        "    min=0,\n",
        "    max=10,\n",
        "    step=0.1,\n",
        "    value=5,\n",
        "    )\n",
        "\n",
        "# Add the slider to the layout\n",
        "layout.update(\n",
        "    sliders=[dict(\n",
        "        active=0,\n",
        "        yanchor='top',\n",
        "        xanchor='left',\n",
        "        currentvalue={'font': {'size': 16}, 'prefix': 'Value: '},\n",
        "        pad={'t': 50, 'l': 50},\n",
        "        len=0.9,\n",
        "        x=0.1,\n",
        "        y=0,\n",
        "        steps=[dict(\n",
        "            label=str(i),\n",
        "            method='restyle',\n",
        "            args=[{'x': [x*i for i in np.random.randn(100)], 'y': [y*i for i in np.random.randn(100)]}]\n",
        "        ) for i in np.arange(0, 10, 0.1)]\n",
        "    )]\n",
        ")\n",
        "\n",
        "# Create a Figure object\n",
        "fig = go.Figure(data=[trace], layout=layout)\n",
        "\n",
        "# Display the figure in Jupyter Notebook\n",
        "fig.show()\n"
      ]
    },
    {
      "cell_type": "code",
      "execution_count": 5,
      "id": "24d184f9-44d7-4ce0-bcaf-619b3388eb7d",
      "metadata": {
        "tags": [],
        "colab": {
          "base_uri": "https://localhost:8080/",
          "height": 332
        },
        "id": "24d184f9-44d7-4ce0-bcaf-619b3388eb7d",
        "outputId": "a061d356-140d-4d41-bce8-8c92ec3f2ca4"
      },
      "outputs": [
        {
          "output_type": "stream",
          "name": "stdout",
          "text": [
            "Looking in indexes: https://pypi.org/simple, https://us-python.pkg.dev/colab-wheels/public/simple/\n",
            "Collecting plotly==5.14.1\n",
            "  Downloading plotly-5.14.1-py2.py3-none-any.whl (15.3 MB)\n",
            "\u001b[2K     \u001b[90m━━━━━━━━━━━━━━━━━━━━━━━━━━━━━━━━━━━━━━━━\u001b[0m \u001b[32m15.3/15.3 MB\u001b[0m \u001b[31m70.7 MB/s\u001b[0m eta \u001b[36m0:00:00\u001b[0m\n",
            "\u001b[?25hRequirement already satisfied: packaging in /usr/local/lib/python3.10/dist-packages (from plotly==5.14.1) (23.1)\n",
            "Requirement already satisfied: tenacity>=6.2.0 in /usr/local/lib/python3.10/dist-packages (from plotly==5.14.1) (8.2.2)\n",
            "Installing collected packages: plotly\n",
            "  Attempting uninstall: plotly\n",
            "    Found existing installation: plotly 5.13.1\n",
            "    Uninstalling plotly-5.13.1:\n",
            "      Successfully uninstalled plotly-5.13.1\n",
            "Successfully installed plotly-5.14.1\n"
          ]
        },
        {
          "output_type": "display_data",
          "data": {
            "application/vnd.colab-display-data+json": {
              "pip_warning": {
                "packages": [
                  "_plotly_utils",
                  "plotly"
                ]
              }
            }
          },
          "metadata": {}
        }
      ],
      "source": [
        "!pip install plotly==5.14.1"
      ]
    },
    {
      "cell_type": "code",
      "execution_count": 11,
      "id": "9c030853-8168-4a21-96f7-1f64453d32c3",
      "metadata": {
        "colab": {
          "base_uri": "https://localhost:8080/"
        },
        "id": "9c030853-8168-4a21-96f7-1f64453d32c3",
        "outputId": "c49e3897-8378-4da3-c8d0-8f69e52e1b8f"
      },
      "outputs": [
        {
          "output_type": "stream",
          "name": "stdout",
          "text": [
            "[NbConvertApp] Converting notebook /content/drive/MyDrive/Colab Notebooks/html.ipynb to html\n",
            "/usr/local/lib/python3.10/dist-packages/nbconvert/filters/widgetsdatatypefilter.py:71: UserWarning: Your element with mimetype(s) dict_keys(['application/vnd.colab-display-data+json']) is not able to be represented.\n",
            "  warn(\n",
            "[NbConvertApp] Writing 608012 bytes to /content/drive/MyDrive/Colab Notebooks/html.html\n"
          ]
        }
      ],
      "source": [
        "!jupyter nbconvert --to html '/content/drive/MyDrive/Colab Notebooks/html.ipynb'\n",
        "\n"
      ]
    },
    {
      "cell_type": "code",
      "source": [
        "from google.colab import drive\n",
        "drive.mount('/content/drive')"
      ],
      "metadata": {
        "colab": {
          "base_uri": "https://localhost:8080/"
        },
        "id": "Jb75gwdumeRM",
        "outputId": "33536cee-a136-4d06-ea1b-fd1f52a1c320"
      },
      "id": "Jb75gwdumeRM",
      "execution_count": 8,
      "outputs": [
        {
          "output_type": "stream",
          "name": "stdout",
          "text": [
            "Mounted at /content/drive\n"
          ]
        }
      ]
    }
  ],
  "metadata": {
    "kernelspec": {
      "display_name": "Python 3 (ipykernel)",
      "language": "python",
      "name": "python3"
    },
    "language_info": {
      "codemirror_mode": {
        "name": "ipython",
        "version": 3
      },
      "file_extension": ".py",
      "mimetype": "text/x-python",
      "name": "python",
      "nbconvert_exporter": "python",
      "pygments_lexer": "ipython3",
      "version": "3.11.0"
    },
    "colab": {
      "provenance": [],
      "include_colab_link": true
    }
  },
  "nbformat": 4,
  "nbformat_minor": 5
}